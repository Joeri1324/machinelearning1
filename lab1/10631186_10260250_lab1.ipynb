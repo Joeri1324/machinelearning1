{
 "cells": [
  {
   "cell_type": "markdown",
   "metadata": {},
   "source": [
    "# **Save this file as studentid1_studentid2_lab#.ipynb**\n",
    "(Your student-id is the number shown on your student card.)\n",
    "\n",
    "E.g. if you work with 3 people, the notebook should be named:\n",
    "12301230_3434343_1238938934_lab1.ipynb.\n",
    "\n",
    "**This will be parsed by a regexp, so please double check your filename.**\n",
    "\n",
    "Before you turn this problem in, please make sure everything runs correctly. First, **restart the kernel** (in the menubar, select Kernel$\\rightarrow$Restart) and then **run all cells** (in the menubar, select Cell$\\rightarrow$Run All).\n",
    "\n",
    "**Make sure you fill in any place that says `YOUR CODE HERE` or \"YOUR ANSWER HERE\", as well as your names and email adresses below.**\n",
    "\n"
   ]
  },
  {
   "cell_type": "code",
   "execution_count": 1,
   "metadata": {
    "collapsed": true
   },
   "outputs": [],
   "source": [
    "NAME = \"Joeri Sleegers\"\n",
    "NAME2 = \"\"\n",
    "NAME3 = \"\"\n",
    "EMAIL = \"joeri.sleegers@student.uva.nl\"\n",
    "EMAIL2 = \"\"\n",
    "EMAIL3 = \"\""
   ]
  },
  {
   "cell_type": "markdown",
   "metadata": {},
   "source": [
    "---"
   ]
  },
  {
   "cell_type": "markdown",
   "metadata": {
    "deletable": false,
    "editable": false,
    "nbgrader": {
     "checksum": "a05329aa131da96764f3c66ecaa03698",
     "grade": false,
     "grade_id": "cell-447a8ab4c82429ab",
     "locked": true,
     "schema_version": 1,
     "solution": false
    }
   },
   "source": [
    "# Lab 1: Linear Regression and Overfitting\n",
    "\n",
    "### Machine Learning 1, September 2017\n",
    "\n",
    "Notes on implementation:\n",
    "\n",
    "* You should write your code and answers in this IPython Notebook: http://ipython.org/notebook.html. If you have problems, please contact your teaching assistant.\n",
    "* Please write your answers right below the questions.\n",
    "* Among the first lines of your notebook should be \"%pylab inline\". This imports all required modules, and your plots will appear inline.\n",
    "* Refer to last week's lab notes, i.e. http://docs.scipy.org/doc/, if you are unsure about what function to use. There are different correct ways to implement each problem!\n",
    "* For this lab, your regression solutions should be in closed form, i.e., should not perform iterative gradient-based optimization but find the exact optimum directly.\n",
    "* use the provided test boxes to check if your answers are correct"
   ]
  },
  {
   "cell_type": "code",
   "execution_count": 12,
   "metadata": {
    "deletable": false,
    "editable": false,
    "nbgrader": {
     "checksum": "9c278ee9abc89a5ef5d829c1049141d2",
     "grade": false,
     "grade_id": "cell-a31fbe1e5a0de9bb",
     "locked": true,
     "schema_version": 1,
     "solution": false
    }
   },
   "outputs": [
    {
     "name": "stdout",
     "output_type": "stream",
     "text": [
      "Populating the interactive namespace from numpy and matplotlib\n"
     ]
    }
   ],
   "source": [
    "%pylab inline\n",
    "plt.rcParams[\"figure.figsize\"] = [20,10]"
   ]
  },
  {
   "cell_type": "markdown",
   "metadata": {
    "deletable": false,
    "editable": false,
    "nbgrader": {
     "checksum": "da272b2022410b91aa71d1666edbc7d0",
     "grade": false,
     "grade_id": "cell-b10d09d2f9867804",
     "locked": true,
     "schema_version": 1,
     "solution": false
    }
   },
   "source": [
    "$\\newcommand{\\bPhi}{\\mathbf{\\Phi}}$\n",
    "$\\newcommand{\\bx}{\\mathbf{x}}$\n",
    "$\\newcommand{\\bw}{\\mathbf{w}}$\n",
    "$\\newcommand{\\bt}{\\mathbf{t}}$\n",
    "$\\newcommand{\\by}{\\mathbf{y}}$\n",
    "$\\newcommand{\\bm}{\\mathbf{m}}$\n",
    "$\\newcommand{\\bS}{\\mathbf{S}}$\n",
    "$\\newcommand{\\bI}{\\mathbf{I}}$\n",
    "\n",
    "## Part 1: Polynomial Regression"
   ]
  },
  {
   "cell_type": "markdown",
   "metadata": {
    "deletable": false,
    "editable": false,
    "nbgrader": {
     "checksum": "20dac87a8289f1872d059a6da0b1b09c",
     "grade": false,
     "grade_id": "cell-505d034435d52b27",
     "locked": true,
     "schema_version": 1,
     "solution": false
    }
   },
   "source": [
    "### 1.1. Generate periodic data (5 points)\n",
    "Write a method `gen_cosine(N)` that generates toy data like in fig 1.2 of Bishop's book. The method should have a parameter $N$, and should return $N$-dimensional vectors $\\bx$ and $\\bt$, where $\\bx$ contains evenly spaced values from 0 to (including) 2$\\pi$, and the elements $t_i$ of $\\bt$ are distributed according to:\n",
    "\n",
    "$$t_i \\sim \\mathcal{N}(\\mu_i, \\sigma^2)$$\n",
    "\n",
    "where $x_i$ is the $i$-th elements of $\\bf{x}$, the mean $\\mu_i = \\cos(x_i)$ and the standard deviation $\\sigma = 0.2$.\n"
   ]
  },
  {
   "cell_type": "code",
   "execution_count": 89,
   "metadata": {
    "deletable": false,
    "nbgrader": {
     "checksum": "52120becec3d311efee47b72cf08402a",
     "grade": false,
     "grade_id": "cell-1c8c68d862f80f7e",
     "locked": false,
     "schema_version": 1,
     "solution": true
    }
   },
   "outputs": [
    {
     "data": {
      "text/plain": [
       "(array([ 0.        ,  0.6981317 ,  1.3962634 ,  2.0943951 ,  2.7925268 ,\n",
       "         3.4906585 ,  4.1887902 ,  4.88692191,  5.58505361,  6.28318531]),\n",
       " array([ 1.21247077,  0.86074545,  0.34056775, -0.51082826, -0.94482056,\n",
       "        -1.29177275, -0.46625896,  0.42710354,  0.61645474,  0.76605057]))"
      ]
     },
     "execution_count": 89,
     "metadata": {},
     "output_type": "execute_result"
    }
   ],
   "source": [
    "def gen_cosine(n):\n",
    "    x = np.linspace(0, 2*np.pi, n)\n",
    "    return x, np.random.normal(np.cos(x), 0.2)\n",
    "\n",
    "gen_cosine(10)"
   ]
  },
  {
   "cell_type": "code",
   "execution_count": 38,
   "metadata": {
    "collapsed": true,
    "deletable": false,
    "editable": false,
    "nbgrader": {
     "checksum": "f7f453424a8fcb38ba78b2a54c49ef7a",
     "grade": true,
     "grade_id": "cell-afc3c8025a62af85",
     "locked": true,
     "points": 5,
     "schema_version": 1,
     "solution": false
    }
   },
   "outputs": [],
   "source": [
    "### Test your function\n",
    "np.random.seed(5)\n",
    "N = 10\n",
    "x, t = gen_cosine(N)\n",
    "\n",
    "assert x.shape == (N,), \"the shape of x is incorrect\"\n",
    "assert t.shape == (N,), \"the shape of t is incorrect\"\n"
   ]
  },
  {
   "cell_type": "markdown",
   "metadata": {
    "deletable": false,
    "editable": false,
    "nbgrader": {
     "checksum": "36f1c468a11a98927757083b3f43db4d",
     "grade": false,
     "grade_id": "cell-22a999e8760129f8",
     "locked": true,
     "schema_version": 1,
     "solution": false
    }
   },
   "source": [
    "### 1.2 Polynomial regression (10 points)\n",
    "\n",
    "Write a method `fit_polynomial(x, t, M)` that finds the maximum-likelihood solution of an _unregularized_ $M$-th order polynomial for some dataset `x`. The error function to minimize w.r.t. $\\bw$ is:\n",
    "\n",
    "$E(\\bw) = \\frac{1}{2} (\\bPhi\\bw - \\bt)^T(\\bPhi\\bw - \\bt)$\n",
    "\n",
    "where $\\bPhi$ is the _feature matrix_ (or _design matrix_) as explained in Bishop's book at section 3.1.1, $\\bt$ is the vector of target values. Your method should return a vector $\\bw$ with the maximum-likelihood parameter estimates, as well as the _feature matrix_ $\\bPhi$."
   ]
  },
  {
   "cell_type": "code",
   "execution_count": 39,
   "metadata": {
    "collapsed": true,
    "deletable": false,
    "editable": false,
    "nbgrader": {
     "checksum": "d3efb0d62c7fa04d3e557ea5346d8997",
     "grade": true,
     "grade_id": "cell-7e0f87e75d7c82aa",
     "locked": true,
     "points": 10,
     "schema_version": 1,
     "solution": false
    }
   },
   "outputs": [],
   "source": [
    "### Test your function\n",
    "N = 10\n",
    "x = np.square((np.linspace(-1, 1, N)))\n",
    "t = 0.5*x + 1.5\n",
    "m = 2\n",
    "w, Phi = fit_polynomial(x,t,m)\n",
    "\n",
    "assert w.shape == (m+1,), \"The shape of w is incorrect\"\n",
    "assert Phi.shape == (N, m+1), \"The shape of Phi is incorrect\"\n"
   ]
  },
  {
   "cell_type": "code",
   "execution_count": 90,
   "metadata": {
    "collapsed": true,
    "deletable": false,
    "nbgrader": {
     "checksum": "e5f21a1de6f35ff5c520db69540d71c7",
     "grade": false,
     "grade_id": "cell-27b0d6f1bcdeb97b",
     "locked": false,
     "schema_version": 1,
     "solution": true
    }
   },
   "outputs": [],
   "source": [
    "def designmatrix(x, M): # it is highly recommended to write a helper function that computes Phi\n",
    "    return np.power(np.stack([x for _ in range(M+1)]).T,\n",
    "                    np.stack([np.arange(M+1) for _ in range(x.shape[0])]))\n",
    "\n",
    "def fit_polynomial(x, t, M):\n",
    "    phi = designmatrix(x, M)\n",
    "    return np.linalg.pinv(phi).dot(t).T, phi\n"
   ]
  },
  {
   "cell_type": "markdown",
   "metadata": {
    "deletable": false,
    "editable": false,
    "nbgrader": {
     "checksum": "b00c483b9143ea9c0dfffd4d0193c1cb",
     "grade": false,
     "grade_id": "cell-f4d51f8338ebdb54",
     "locked": true,
     "schema_version": 1,
     "solution": false
    }
   },
   "source": [
    "### 1.3 Plot (5 points)\n",
    "Sample a dataset with $N=10$, and fit four polynomials with $M \\in (0, 2, 4, 8)$.\n",
    "For each value of $M$, plot the prediction function, along with the data and the original cosine function. The resulting figure should look similar to fig 1.4 of the Bishop's book. Note that you can use matplotlib's `plt.pyplot(.)` functionality for creating grids of figures."
   ]
  },
  {
   "cell_type": "code",
   "execution_count": 91,
   "metadata": {
    "deletable": false,
    "nbgrader": {
     "checksum": "0009313fff1f2cd716d4e81f0f2ec5ff",
     "grade": true,
     "grade_id": "cell-2774a098ae80cb7e",
     "locked": false,
     "points": 5,
     "schema_version": 1,
     "solution": true
    }
   },
   "outputs": [
    {
     "data": {
      "image/png": "[encoded data removed]",
      "text/plain": [
       "<matplotlib.figure.Figure at 0x117af0128>"
      ]
     },
     "metadata": {},
     "output_type": "display_data"
    }
   ],
   "source": [
    "x, y = gen_cosine(10)\n",
    "true_x = np.linspace(0, 2*np.pi, 100)\n",
    "true_y = np.cos(true_x)\n",
    "\n",
    "_, axis =  plt.subplots(2, 2)\n",
    "for m, ax in zip([0, 2, 4, 8], [axis[0][0], axis[0][1], axis[1][0], axis[1][1]]):\n",
    "    w, _ = fit_polynomial(x, y, m)\n",
    "    \n",
    "    xx = np.linspace(0, 2*np.pi, 100)\n",
    "    dm = designmatrix(xx, m)\n",
    "    target = np.dot(dm, w)\n",
    "    ax.plot(xx, target.tolist(), color='red')\n",
    "    ax.scatter(x, y, marker='o')\n",
    "    ax.plot(true_x, true_y, color='cyan')\n",
    "    \n",
    "    ax.text(1.5, 0.8, 'M='+str(m), style='italic')\n",
    "\n",
    "plt.show()"
   ]
  },
  {
   "cell_type": "markdown",
   "metadata": {
    "deletable": false,
    "editable": false,
    "nbgrader": {
     "checksum": "e1dec783687fc31125cbf948151940d4",
     "grade": false,
     "grade_id": "cell-2597ee45cb3998ed",
     "locked": true,
     "schema_version": 1,
     "solution": false
    }
   },
   "source": [
    "### 1.4 Regularized linear regression (10 points)\n",
    "\n",
    "Write a method `fit_polynomial_reg(x, t, M, lamb)` that fits a _regularized_ $M$-th order polynomial to the periodic data, as discussed in the lectures, where `lamb` is the regularization term _lambda_. (Note that 'lambda' cannot be used as a variable name in Python since it has a special meaning). The error function to minimize w.r.t. $\\bw$:\n",
    "\n",
    "$E(\\bw) = \\frac{1}{2} (\\bPhi\\bw - \\bt)^T(\\bPhi\\bw - \\bt) + \\frac{\\lambda}{2} \\mathbf{w}^T \\mathbf{w}$\n",
    "\n",
    "For background, see section 3.1.4 of Bishop's book.\n",
    "\n",
    "The function should return $\\bw$ and $\\bPhi$."
   ]
  },
  {
   "cell_type": "code",
   "execution_count": 92,
   "metadata": {
    "collapsed": true,
    "deletable": false,
    "nbgrader": {
     "checksum": "dc76736fba956e5d9cc51a318c2507c3",
     "grade": false,
     "grade_id": "cell-9fe81fd5537daff9",
     "locked": false,
     "schema_version": 1,
     "solution": true
    }
   },
   "outputs": [],
   "source": [
    "import numpy as np\n",
    "\n",
    "def fit_polynomial_reg(x, t, m, lamb):\n",
    "    phi = designmatrix(x, m)\n",
    "    return np.linalg.pinv(lamb*np.identity(m+1) + phi.T.dot(phi)).T.dot(phi.T).dot(t), phi"
   ]
  },
  {
   "cell_type": "code",
   "execution_count": 93,
   "metadata": {
    "collapsed": true,
    "deletable": false,
    "editable": false,
    "nbgrader": {
     "checksum": "06ed377acf8ca027242a067aafbf59b8",
     "grade": true,
     "grade_id": "cell-a2e561cbc5a4140b",
     "locked": true,
     "points": 10,
     "schema_version": 1,
     "solution": false
    }
   },
   "outputs": [],
   "source": [
    "### Test your function\n",
    "N = 10\n",
    "x = np.square((np.linspace(-1, 1, N)))\n",
    "t = 0.5*x + 1.5\n",
    "m = 2\n",
    "lamb = 0.1\n",
    "w, Phi = fit_polynomial_reg(x,t,m, lamb)\n",
    "\n",
    "assert w.shape == (m+1,), \"The shape of w is incorrect\"\n",
    "assert Phi.shape == (N, m+1), \"The shape of w is incorrect\" \n"
   ]
  },
  {
   "cell_type": "markdown",
   "metadata": {
    "deletable": false,
    "editable": false,
    "nbgrader": {
     "checksum": "2812b11d458a2520bacff231d56b8f4c",
     "grade": false,
     "grade_id": "cell-638bbedf69267917",
     "locked": true,
     "schema_version": 1,
     "solution": false
    }
   },
   "source": [
    "\n",
    "\n",
    "\n",
    "\n",
    "\n",
    "### 1.5 Model selection by cross-validation (15 points)\n",
    "Use cross-validation to find a good choice of $M$ and $\\lambda$, given a dataset of $N=10$ datapoints generated with `gen_cosine(20)`. You should write a function that tries (loops over) a reasonable range of choices of $M$ and $\\lambda$, and returns the choice with the best cross-validation error. In this case you use $K=5$ folds.\n",
    "\n",
    "You can let $M \\in (0, 1, ..., 10)$, and let $\\lambda \\in (e^{-10}, e^{-9}, ..., e^{0})$.\n",
    "\n",
    "a) (5 points) First of all, write a method `pred_error(x_train, x_valid, t_train, t_valid, M, lamb)` that compares the prediction of your method `fit_polynomial_reg` for a given set of parameters $M$ and $\\lambda$ to `t_valid`. It should return the prediction error for a single fold."
   ]
  },
  {
   "cell_type": "code",
   "execution_count": 95,
   "metadata": {
    "collapsed": true,
    "deletable": false,
    "nbgrader": {
     "checksum": "2cfb7f4cc04e4af74f4655e772e33b09",
     "grade": false,
     "grade_id": "cell-d631a845dec603be",
     "locked": false,
     "schema_version": 1,
     "solution": true
    }
   },
   "outputs": [],
   "source": [
    "def pred_error(x_train, x_valid, t_train, t_valid, M, reg):\n",
    "    w, phi = fit_polynomial_reg(x_train, t_train, M, reg)\n",
    "    return np.sum((1/2) * np.power(designmatrix(x_valid, M).dot(w) - t_valid, 2))\n",
    "\n",
    "N = 10\n",
    "x = np.linspace(-1, 1, N)\n",
    "t = 0.5*np.square(x) + 1.5\n",
    "M = 2\n",
    "reg = 0.1\n",
    "pred_err = pred_error(x[:-2], x[-2:], t[:-2], t[-2:], M, reg)"
   ]
  },
  {
   "cell_type": "code",
   "execution_count": 96,
   "metadata": {
    "collapsed": true,
    "deletable": false,
    "editable": false,
    "nbgrader": {
     "checksum": "45c2bc1172798293ab8fea0a856191ce",
     "grade": true,
     "grade_id": "cell-ba7261e2eae040fd",
     "locked": true,
     "points": 5,
     "schema_version": 1,
     "solution": false
    }
   },
   "outputs": [],
   "source": [
    "### Test your function\n",
    "N = 10\n",
    "x = np.linspace(-1, 1, N)\n",
    "t = 0.5*np.square(x) + 1.5\n",
    "M = 2\n",
    "reg = 0.1\n",
    "pred_err = pred_error(x[:-2], x[-2:], t[:-2], t[-2:], M, reg)\n",
    "\n",
    "assert pred_err < 0.01, \"pred_err is too big\"\n"
   ]
  },
  {
   "cell_type": "markdown",
   "metadata": {
    "deletable": false,
    "editable": false,
    "nbgrader": {
     "checksum": "0e6aab76a18a6ef5f13d92c330d3cd5c",
     "grade": false,
     "grade_id": "cell-4c1ef9acd1f93493",
     "locked": true,
     "schema_version": 1,
     "solution": false
    }
   },
   "source": [
    "b) (10 points) Now write a method find_best_m_and_lamb(x, t) that finds the best values for $M$ and $\\lambda$. The method should return the best $M$ and $\\lambda$. To get you started, here is a method you can use to generate indices of cross-validation folds."
   ]
  },
  {
   "cell_type": "code",
   "execution_count": 97,
   "metadata": {
    "collapsed": true,
    "deletable": false,
    "editable": false,
    "nbgrader": {
     "checksum": "d673ab5c8a9231852af04a728bf93253",
     "grade": false,
     "grade_id": "cell-9abfee773ee6f780",
     "locked": true,
     "schema_version": 1,
     "solution": false
    }
   },
   "outputs": [],
   "source": [
    "def kfold_indices(N, k):\n",
    "    all_indices = np.arange(N,dtype=int)\n",
    "    np.random.shuffle(all_indices)\n",
    "    idx = [int(i) for i in np.floor(np.linspace(0,N,k+1))]\n",
    "    train_folds = []\n",
    "    valid_folds = []\n",
    "    for fold in range(k):\n",
    "        valid_indices = all_indices[idx[fold]:idx[fold+1]]\n",
    "        valid_folds.append(valid_indices)\n",
    "        train_folds.append(np.setdiff1d(all_indices, valid_indices))\n",
    "    return train_folds, valid_folds\n"
   ]
  },
  {
   "cell_type": "code",
   "execution_count": 280,
   "metadata": {
    "deletable": false,
    "nbgrader": {
     "checksum": "65930a94ed4b46300fcf5aef054662a0",
     "grade": false,
     "grade_id": "cell-0553f08188fbfcd6",
     "locked": false,
     "schema_version": 1,
     "solution": true
    }
   },
   "outputs": [
    {
     "data": {
      "text/plain": [
       "(5, 3)"
      ]
     },
     "execution_count": 280,
     "metadata": {},
     "output_type": "execute_result"
    }
   ],
   "source": [
    "import itertools\n",
    "\n",
    "def find_best_m_and_lamb(x, t):\n",
    "    def get_lowest_err(train_indices, valid_indices):\n",
    "        return min(\n",
    "            [(pred_error(x[train_indices], x[valid_indices], t[train_indices],\n",
    "                         t[valid_indices], M, np.exp(-reg)), M, reg)\n",
    "            for (M, reg) in itertools.product(range(0, 10), range(10, 0, -1))], \n",
    "        key=lambda t: t[0])\n",
    "\n",
    "    train_folds, valid_folds = kfold_indices(10, 5)\n",
    "    lowest = min(\n",
    "        [get_lowest_err(train_indices, valid_indices) for\n",
    "         train_indices, valid_indices in zip(train_folds, valid_folds)],\n",
    "    key=lambda t: t[0])\n",
    "    return lowest[1], lowest[2]\n",
    "\n",
    "x, y = gen_cosine(10)\n",
    "find_best_m_and_lamb(x, y) "
   ]
  },
  {
   "cell_type": "code",
   "execution_count": 138,
   "metadata": {
    "collapsed": true,
    "deletable": false,
    "editable": false,
    "nbgrader": {
     "checksum": "09809a3d53a4725b396bbe8b4526cb19",
     "grade": true,
     "grade_id": "cell-523aa38e51c8913c",
     "locked": true,
     "points": 10,
     "schema_version": 1,
     "solution": false
    }
   },
   "outputs": [],
   "source": [
    "### If you want you can write your own test here"
   ]
  },
  {
   "cell_type": "markdown",
   "metadata": {
    "deletable": false,
    "editable": false,
    "nbgrader": {
     "checksum": "818d2036edbff780a450e6e1f4123eff",
     "grade": false,
     "grade_id": "cell-13e48288f0ba37af",
     "locked": true,
     "schema_version": 1,
     "solution": false
    }
   },
   "source": [
    "### 1.7 Plot best cross-validated fit (5 points)\n",
    "\n",
    "For some dataset with $N = 10$, plot the model with the optimal $M$ and $\\lambda$ according to the cross-validation error, using the method you just wrote. In addition, the plot should show the dataset itself and the function that we try to approximate. Let the plot make clear which $M$ and $\\lambda$ were found."
   ]
  },
  {
   "cell_type": "code",
   "execution_count": 281,
   "metadata": {
    "deletable": false,
    "nbgrader": {
     "checksum": "9600d75426aa084eff763220c868f3da",
     "grade": true,
     "grade_id": "cell-f59cac6f24ce02fc",
     "locked": false,
     "points": 5,
     "schema_version": 1,
     "solution": true
    }
   },
   "outputs": [
    {
     "data": {
      "image/png": "[encoded data removed]",
      "text/plain": [
       "<matplotlib.figure.Figure at 0x1184ac320>"
      ]
     },
     "metadata": {},
     "output_type": "display_data"
    }
   ],
   "source": [
    "x, y = gen_cosine(10)\n",
    "M, lamb = find_best_m_and_lamb(x, y)\n",
    "w, phi = fit_polynomial_reg(x, y, M, np.exp(-lamb))\n",
    "\n",
    "xx = np.linspace(0, 2*np.pi, 100)\n",
    "plt.plot(xx, designmatrix(xx, M).dot(w))\n",
    "plt.plot(xx, np.cos(xx), color='cyan')\n",
    "plt.scatter(x, y, color='red')\n",
    "plt.text(2, 1, 'M='+str(M)+\" \"+'λ='+str(np.exp(-lamb)), style='italic')\n",
    "plt.show()"
   ]
  },
  {
   "cell_type": "markdown",
   "metadata": {
    "deletable": false,
    "editable": false,
    "nbgrader": {
     "checksum": "80900f5fe1ee423cd025808ec62208bc",
     "grade": false,
     "grade_id": "cell-f471e0e0ddf7667a",
     "locked": true,
     "schema_version": 1,
     "solution": false
    }
   },
   "source": [
    "## Part 2: Bayesian Linear (Polynomial) Regression\n",
    "\n",
    "### 2.1 Cosine 2 (5 points)\n",
    "\n",
    "Write a function `gen_cosine2(N)` that behaves identically to `gen_cosine(N)` except that the generated values $x_i$ are not linearly spaced, but drawn from a uniform distribution between $0$ and $2 \\pi$."
   ]
  },
  {
   "cell_type": "code",
   "execution_count": 282,
   "metadata": {
    "collapsed": true,
    "deletable": false,
    "nbgrader": {
     "checksum": "068bef52eff2adf561b5b4c2f8f8465b",
     "grade": false,
     "grade_id": "cell-36addc88e1b3fe1d",
     "locked": false,
     "schema_version": 1,
     "solution": true
    }
   },
   "outputs": [],
   "source": [
    "def gen_cosine2(n):\n",
    "    x = np.random.uniform(0, 2*np.pi, n)\n",
    "    return x, np.random.normal(np.cos(x), 0.2)\n"
   ]
  },
  {
   "cell_type": "code",
   "execution_count": 172,
   "metadata": {
    "collapsed": true,
    "deletable": false,
    "editable": false,
    "nbgrader": {
     "checksum": "5f697ef0ef1b33ff50de10ff8796dce9",
     "grade": true,
     "grade_id": "cell-57a847b66fb591af",
     "locked": true,
     "points": 5,
     "schema_version": 1,
     "solution": false
    }
   },
   "outputs": [],
   "source": [
    "### Test your function\n",
    "np.random.seed(5)\n",
    "N = 10\n",
    "x, t = gen_cosine2(N)\n",
    "\n",
    "assert x.shape == (N,), \"the shape of x is incorrect\"\n",
    "assert t.shape == (N,), \"the shape of t is incorrect\"\n"
   ]
  },
  {
   "cell_type": "markdown",
   "metadata": {},
   "source": [
    "### 2.2 Compute Posterior (15 points)\n",
    "\n",
    "You're going to implement a Bayesian linear regression model, and fit it to the periodic data. Your regression model has a zero-mean isotropic Gaussian prior over the parameters, governed by a single (scalar) precision parameter $\\alpha$, i.e.:\n",
    "\n",
    "$$p(\\bw \\;|\\; \\alpha) = \\mathcal{N}(\\bw \\;|\\; 0, \\alpha^{-1} \\bI)$$\n",
    "\n",
    "The covariance and mean of the posterior are given by:\n",
    "\n",
    "$$\\bS_N= \\left( \\alpha \\bI + \\beta \\bPhi^T \\bPhi \\right)^{-1} $$\n",
    "$$\\bm_N = \\beta\\; \\bS_N \\bPhi^T \\bt$$\n",
    "\n",
    "where $\\alpha$ is the precision of the predictive distribution, and $\\beta$ is the noise precision. \n",
    "See MLPR chapter 3.3 for background.\n",
    "\n",
    "Write a method `fit_polynomial_bayes(x, t, M, alpha, beta)` that returns the mean $\\bm_N$ and covariance $\\bS_N$ of the posterior for a $M$-th order polynomial. In addition it should return the design matrix $\\bPhi$. The arguments `x`, `t` and `M` have the same meaning as in question 1.2."
   ]
  },
  {
   "cell_type": "code",
   "execution_count": 283,
   "metadata": {
    "collapsed": true,
    "deletable": false,
    "nbgrader": {
     "checksum": "a945f997e9dec6b173c23a922ef773b3",
     "grade": false,
     "grade_id": "cell-24d68ce462db8f40",
     "locked": false,
     "schema_version": 1,
     "solution": true
    }
   },
   "outputs": [],
   "source": [
    "def fit_polynomial_bayes(x, t, M, alpha, beta):\n",
    "    Phi = designmatrix(x, M)\n",
    "    S = np.linalg.pinv(alpha * np.identity(M+1) + beta * Phi.T.dot(Phi))\n",
    "    m = beta * S.dot(Phi.T).dot(t)\n",
    "    return m, S, Phi\n"
   ]
  },
  {
   "cell_type": "code",
   "execution_count": 176,
   "metadata": {
    "collapsed": true,
    "deletable": false,
    "editable": false,
    "nbgrader": {
     "checksum": "efa9ff3630a36e0abbd8f33864454235",
     "grade": true,
     "grade_id": "cell-5cf266fca46cd4e9",
     "locked": true,
     "points": 15,
     "schema_version": 1,
     "solution": false
    }
   },
   "outputs": [],
   "source": [
    "### Test your function\n",
    "N = 10\n",
    "x = np.linspace(-1, 1, N)\n",
    "t = 0.5*np.square(x) + 1.5\n",
    "M = 2\n",
    "alpha = 0.5\n",
    "beta = 25\n",
    "m, S, Phi = fit_polynomial_bayes(x, t, M, alpha, beta)\n",
    "\n",
    "assert m.shape == (M+1,), \"the shape of m is incorrect\" \n",
    "assert S.shape == (M+1, M+1), \"the shape of S is incorrect\"\n",
    "assert Phi.shape == (N, M+1), \"the shape of Phi is incorrect\"\n"
   ]
  },
  {
   "cell_type": "markdown",
   "metadata": {
    "deletable": false,
    "editable": false,
    "nbgrader": {
     "checksum": "a598daf8d35262215ce9deda7cc4bb7b",
     "grade": false,
     "grade_id": "cell-471f21c230ca4203",
     "locked": true,
     "schema_version": 1,
     "solution": false
    }
   },
   "source": [
    "### 2.3 Prediction (10 points)\n",
    "\n",
    "The predictive distribution of Bayesian linear regression is:\n",
    "\n",
    "$$ p(t \\;|\\; \\bx, \\bt, \\alpha, \\beta) = \\mathcal{N}(t \\;|\\; \\bm_N^T \\phi(\\bx), \\sigma_N^2(\\bx))$$\n",
    "\n",
    "$$ \\sigma_N^2 = \\frac{1}{\\beta} + \\phi(\\bx)^T \\bS_N \\phi(\\bx) $$\n",
    "\n",
    "where $\\phi(\\bx)$ are the computed features for a new datapoint $\\bx$, and $t$ is the predicted variable for datapoint $\\bx$. \n",
    "\n",
    "Write a function that `predict_polynomial_bayes(x, m, S, beta)` that returns the predictive mean, variance and design matrix $\\bPhi$ given a new datapoint `x`, posterior mean `m`, posterior variance `S` and a choice of model variance `beta`."
   ]
  },
  {
   "cell_type": "code",
   "execution_count": 284,
   "metadata": {
    "deletable": false,
    "nbgrader": {
     "checksum": "45fb4bc1bc26e2e2865d96eee138c9db",
     "grade": false,
     "grade_id": "cell-865ac2a455500d4b",
     "locked": false,
     "schema_version": 1,
     "solution": true
    }
   },
   "outputs": [],
   "source": [
    "def predict_polynomial_bayes(x, m, S, beta):\n",
    "    Phi = designmatrix(x, m.shape[0]-1)\n",
    "    sigma = np.sum((1/beta)+Phi.dot(S) * (Phi), axis=1)\n",
    "    mean = m.dot(Phi.T)\n",
    "    return mean, sigma, Phi\n",
    "\n",
    "np.random.seed(5)\n",
    "N = 10\n",
    "x = np.linspace(-1, 1, N)\n",
    "m = np.empty(3)\n",
    "S = np.empty((3, 3))\n",
    "beta = 25\n",
    "mean, sigma, Phi = predict_polynomial_bayes(x, m, S, beta)"
   ]
  },
  {
   "cell_type": "code",
   "execution_count": 285,
   "metadata": {
    "deletable": false,
    "editable": false,
    "nbgrader": {
     "checksum": "e70aef05da7f73e56b4c0d82017b58be",
     "grade": true,
     "grade_id": "cell-ecb92bcbe0131eb9",
     "locked": true,
     "points": 10,
     "schema_version": 1,
     "solution": false
    }
   },
   "outputs": [],
   "source": [
    "### Test your function\n",
    "np.random.seed(5)\n",
    "N = 10\n",
    "x = np.linspace(-1, 1, N)\n",
    "m = np.empty(3)\n",
    "S = np.empty((3, 3))\n",
    "beta = 25\n",
    "mean, sigma, Phi = predict_polynomial_bayes(x, m, S, beta)\n",
    "\n",
    "assert mean.shape == (N,), \"the shape of mean is incorrect\"\n",
    "assert sigma.shape == (N,), \"the shape of sigma is incorrect\"\n",
    "assert Phi.shape == (N, m.shape[0]), \"the shape of Phi is incorrect\"\n"
   ]
  },
  {
   "cell_type": "markdown",
   "metadata": {
    "deletable": false,
    "editable": false,
    "nbgrader": {
     "checksum": "b1614637ac227a50f9239359a86a6ca2",
     "grade": false,
     "grade_id": "cell-50452fe12b83c7ce",
     "locked": true,
     "schema_version": 1,
     "solution": false
    }
   },
   "source": [
    "### 2.4 Plot predictive distribution (10 points)\n",
    "\n",
    "a) (5 points) Generate 10 datapoints with `gen_cosine2(10)`. Compute the posterior mean and covariance for a Bayesian polynomial regression model with $M=4$, $\\alpha=\\frac{1}{2}$ and $\\beta=\\frac{1}{0.2^2}$.\n",
    "Plot the Bayesian predictive distribution, where you plot (for $x$ between 0 and $2 \\pi$) $t$'s predictive mean and a 1-sigma predictive variance using `plt.fill_between(..., alpha=0.1)` (the alpha argument induces transparency).\n",
    "\n",
    "Include the datapoints in your plot.\n"
   ]
  },
  {
   "cell_type": "code",
   "execution_count": 293,
   "metadata": {
    "deletable": false,
    "nbgrader": {
     "checksum": "4afe3760f68ff7c6b06f18b8e60c71a6",
     "grade": true,
     "grade_id": "cell-81339ee6f9873831",
     "locked": false,
     "points": 5,
     "schema_version": 1,
     "solution": true
    }
   },
   "outputs": [
    {
     "data": {
      "image/png": "[encoded data removed]",
      "text/plain": [
       "<matplotlib.figure.Figure at 0x119c57630>"
      ]
     },
     "metadata": {},
     "output_type": "display_data"
    }
   ],
   "source": [
    "M = 4\n",
    "alpha = 0.5\n",
    "beta = 1/(0.2**2)\n",
    "\n",
    "x, y = gen_cosine2(10)\n",
    "m, S, Phi = fit_polynomial_bayes(x, y, M, alpha, beta)\n",
    "xx = np.linspace(0, 2*np.pi, 100)\n",
    "mean, sigma, phi = predict_polynomial_bayes(np.linspace(0, 2*np.pi, 100), m, S, beta)\n",
    "\n",
    "plt.plot(xx, mean)\n",
    "plt.scatter(x, y, color='purple')\n",
    "plt.fill_between(xx, mean-sigma, sigma+mean, alpha=0.1, color= 'red')\n",
    "plt.show()"
   ]
  },
  {
   "cell_type": "markdown",
   "metadata": {
    "deletable": false,
    "editable": false,
    "nbgrader": {
     "checksum": "7ce5a14136b89a9d932d032d0cea9c0f",
     "grade": false,
     "grade_id": "cell-c556b2f5fcee8dee",
     "locked": true,
     "schema_version": 1,
     "solution": false
    }
   },
   "source": [
    "b) (5 points) For a second plot, draw 100 samples from the parameters' posterior distribution. Each of these samples is a certain choice of parameters for 4-th order polynomial regression. \n",
    "Display each of these 100 polynomials.\n"
   ]
  },
  {
   "cell_type": "code",
   "execution_count": 295,
   "metadata": {
    "deletable": false,
    "nbgrader": {
     "checksum": "4890f9fa631621091da1d27796ce0d9b",
     "grade": true,
     "grade_id": "cell-68cf4e7a773b42b9",
     "locked": false,
     "points": 0,
     "schema_version": 1,
     "solution": true
    }
   },
   "outputs": [
    {
     "name": "stdout",
     "output_type": "stream",
     "text": [
      "[ 0.06960622  1.37217499 -1.51494125  0.40084129 -0.03045108]\n",
      "[ 0.99899434 -0.2041274  -0.78696176  0.27087244 -0.02248637]\n",
      "[ 0.40194132  0.72726798 -1.15179568  0.32301666 -0.02489273]\n",
      "[ 0.26559104  1.41039407 -1.67489129  0.45393374 -0.03538018]\n",
      "[ 0.9831703   0.09605967 -0.97301545  0.31318417 -0.02596978]\n",
      "[ 0.70824921  0.19816169 -1.02205805  0.32314532 -0.02625821]\n",
      "[ 0.59124894  1.31276574 -1.86393907  0.52694818 -0.04182499]\n",
      "[ 0.68638856  0.48107376 -1.1417258   0.34239523 -0.02745833]\n",
      "[ 0.40138136  0.84651957 -1.23322626  0.33589538 -0.02538731]\n",
      "[ 2.44099835 -2.767938    0.5510624   0.00540305 -0.00462991]\n",
      "[ 0.62379696  0.71684505 -1.34053932  0.40038176 -0.03275436]\n",
      "[ 1.36563091 -0.7680653  -0.55878184  0.24317512 -0.02188039]\n",
      "[ 2.58052614 -2.00989018 -0.13259955  0.17622201 -0.01766995]\n",
      "[ 0.34657974  1.45267062 -1.76258697  0.49337604 -0.03969094]\n",
      "[ 0.69702916  0.49593914 -1.11909804  0.32923432 -0.02595597]\n",
      "[ 0.80739764  0.37412817 -1.14748446  0.35345702 -0.0287485 ]\n",
      "[ 0.3538048   0.90281279 -1.23681975  0.34102457 -0.02630235]\n",
      "[ 1.07331604 -0.26309657 -0.70112043  0.23893733 -0.01930043]\n",
      "[ 0.49532907  0.26757491 -0.94101118  0.29552471 -0.02404544]\n",
      "[ 0.24552099  0.87455451 -1.25998616  0.36163704 -0.02890883]\n",
      "[ 0.79500814  0.39202412 -1.25373728  0.39486632 -0.032882  ]\n",
      "[ 1.0988948  -0.24348052 -0.77574649  0.27469201 -0.02336788]\n",
      "[ 1.94385683 -1.33371259 -0.34782836  0.20820945 -0.01972572]\n",
      "[ 0.36372383  1.16027478 -1.3915146   0.36538    -0.02714646]\n",
      "[ 1.90867278 -1.51318506 -0.16685139  0.16338321 -0.01656182]\n",
      "[-0.20605397  1.50830373 -1.55721154  0.40826605 -0.03102193]\n",
      "[ 1.82822954 -1.75938843  0.1630573   0.05766937 -0.00674235]\n",
      "[ 0.52110349  0.52497722 -1.07435518  0.31339718 -0.02440739]\n",
      "[ 1.40400675 -0.31823746 -0.90673941  0.32509144 -0.02798816]\n",
      "[ 0.6095165   0.21961874 -0.924342    0.28942665 -0.02332466]\n",
      "[ 1.43552244 -0.79991522 -0.51726474  0.23006012 -0.02089063]\n",
      "[ 1.06767505 -0.1126577  -0.9608833   0.32982873 -0.02769671]\n",
      "[ 1.02470201 -0.2082322  -0.93988312  0.33808209 -0.02925793]\n",
      "[ 3.15190902 -3.05513431  0.37155728  0.08110452 -0.01145997]\n",
      "[ 1.21809457 -0.45564053 -0.72818641  0.27300487 -0.02340183]\n",
      "[ 1.0470493  -0.60975204 -0.54805024  0.21446081 -0.01777573]\n",
      "[ 0.39862422  1.10680022 -1.44288733  0.40489045 -0.03221477]\n",
      "[-0.71903654  2.49437496 -1.92895426  0.45623088 -0.03283949]\n",
      "[ 0.58321692 -0.29236913 -0.55847998  0.20268475 -0.01681414]\n",
      "[ 0.64465297  0.68623006 -1.4086042   0.43013346 -0.0355054 ]\n",
      "[ 0.49721101  0.56777031 -1.03947868  0.29398366 -0.0226783 ]\n",
      "[ 1.78565408 -1.05927347 -0.62305391  0.28662441 -0.02637213]\n",
      "[-0.19019985  0.67029392 -0.8436571   0.23563275 -0.01833464]\n",
      "[ 0.39402974  0.09761344 -0.67935681  0.21652305 -0.01748117]\n",
      "[ 1.3313623  -1.03227081 -0.27031029  0.15683655 -0.01440959]\n",
      "[ 0.19593169  0.77763699 -1.27283805  0.37140622 -0.02967215]\n",
      "[ 0.40760216  0.58543582 -1.10072124  0.32677885 -0.02624118]\n",
      "[-0.97409163  2.59600177 -2.18146659  0.55709664 -0.04290869]\n",
      "[ 0.7895554   0.2028896  -1.06823398  0.33901907 -0.02796331]\n",
      "[-0.00394608  1.02637889 -1.38723327  0.40197221 -0.03259304]\n",
      "[-0.40788211  1.4288284  -1.4924495   0.40805369 -0.03230901]\n",
      "[ 0.57039044  0.94825135 -1.54038181  0.44404346 -0.03535637]\n",
      "[ 1.86411724 -1.13933041 -0.4189604   0.21030824 -0.01894557]\n",
      "[ 1.46094633 -0.05065615 -1.00492297  0.3297575  -0.02743428]\n",
      "[ 1.46264458 -0.37780791 -0.85286042  0.30831123 -0.02645581]\n",
      "[ 0.66869429  0.1908599  -0.84030933  0.26226302 -0.02129669]\n",
      "[ 0.5257555   0.20715194 -0.93600108  0.29966483 -0.02471623]\n",
      "[ 0.25680772  1.018561   -1.31724133  0.35802145 -0.02740651]\n",
      "[ 1.93480531 -1.33077716 -0.25281802  0.16711128 -0.0156415 ]\n",
      "[ 1.15245122 -0.10534149 -0.9180439   0.30668137 -0.02537043]\n",
      "[ 0.59017821  0.17130397 -0.75326995  0.22812747 -0.01765625]\n",
      "[ 0.14204374  0.74285634 -1.02754355  0.2788415  -0.02092865]\n",
      "[-0.13484763  1.34594021 -1.51638925  0.4181311  -0.03311045]\n",
      "[ 2.05007822 -1.80073331 -0.03576301  0.13313143 -0.0137483 ]\n",
      "[ 0.25740486  0.83724843 -1.27995183  0.3713901  -0.02972991]\n",
      "[ 0.45935799  0.51294373 -1.06474239  0.31823113 -0.02568083]\n",
      "[ 0.81632641 -0.03510171 -0.67594985  0.21459332 -0.01654934]\n",
      "[ 0.56212202  0.49554295 -1.14930505  0.34855991 -0.02826579]\n",
      "[ 0.73223586  0.49598745 -1.30515159  0.40332276 -0.03308046]\n",
      "[ 0.29596423  0.42411036 -0.92857532  0.2649288  -0.01977834]\n",
      "[-0.30228045  1.78853144 -1.63491739  0.41337217 -0.03085816]\n",
      "[ 0.65843281  0.55441098 -1.16999005  0.35021396 -0.02838303]\n",
      "[ 0.01910821  0.92961636 -1.24271267  0.35171756 -0.02778512]\n",
      "[ 0.57019673  0.26339038 -0.95249842  0.29513467 -0.02377674]\n",
      "[ 0.41460509  0.07873413 -0.77769477  0.26570648 -0.02278203]\n",
      "[ 0.32912343  0.64092889 -0.95278643  0.26652824 -0.0206637 ]\n",
      "[ 0.91391922  0.34741665 -1.26351667  0.3956894  -0.03245681]\n",
      "[ 0.43063429  1.13297019 -1.56450025  0.44984383 -0.0364278 ]\n",
      "[-0.09946974  1.37445741 -1.42198595  0.37172204 -0.02805125]\n",
      "[ 1.64185176 -1.1524067  -0.35523127  0.20000262 -0.01887538]\n",
      "[-0.26819644  1.32272196 -1.46558974  0.40116882 -0.03153237]\n",
      "[ 0.95464566  0.18757927 -1.0486174   0.33003833 -0.02672748]\n",
      "[ 0.28465512  0.2918107  -0.69488194  0.2022357  -0.01540224]\n",
      "[ 2.65230912 -1.87296334 -0.22378333  0.19639169 -0.01924539]\n",
      "[ 0.78349658  0.3710686  -1.03091043  0.30779594 -0.02423689]\n",
      "[ 0.56341628  0.72959186 -1.3257751   0.38785023 -0.03088219]\n",
      "[ 1.02358586 -0.38975619 -0.65850159  0.24659774 -0.02121019]\n",
      "[ 1.02710955 -0.21688803 -0.78345665  0.27874295 -0.02391659]\n",
      "[-0.33446469  1.88273577 -1.66914383  0.4094052  -0.02969954]\n",
      "[ 0.5079343   0.39243967 -0.96888632  0.29490845 -0.02393122]\n",
      "[ 0.54736134  0.52495951 -1.11693552  0.32293288 -0.02496984]\n",
      "[-0.42485657  1.10343585 -1.10413979  0.29176408 -0.02217753]\n",
      "[ 0.22996012  0.22575546 -0.78664539  0.24959669 -0.02043327]\n",
      "[-0.20688388  0.94216189 -1.03838476  0.26897225 -0.0195336 ]\n",
      "[ 0.76006565  0.32041024 -1.02869253  0.31617207 -0.02547715]\n",
      "[ 1.82181582 -1.16395911 -0.39471348  0.21177326 -0.01981266]\n",
      "[ 1.59875717 -1.27287359 -0.23020057  0.16877635 -0.01639188]\n",
      "[ 1.90214687 -0.61928297 -0.77349136  0.28563155 -0.02430193]\n",
      "[ 0.75109796  0.07255898 -0.93158063  0.30853322 -0.02575706]\n",
      "[ 0.88646762 -0.24062913 -0.5969514   0.20555002 -0.01668548]\n"
     ]
    }
   ],
   "source": [
    "xx = np.linspace(0, 2*np.pi, 100)\n",
    "phi = designmatrix(xx, 4)\n",
    "    \n",
    "for pol in numpy.random.multivariate_normal(m, S, 100):\n",
    "    print(phi.T.dot(pol)\n",
    "    \n",
    "plt.show()"
   ]
  },
  {
   "cell_type": "markdown",
   "metadata": {
    "deletable": false,
    "editable": false,
    "nbgrader": {
     "checksum": "84c94e24c6499df616f5cd4564009365",
     "grade": false,
     "grade_id": "cell-4fdd4eca06d7b5d5",
     "locked": true,
     "schema_version": 1,
     "solution": false
    }
   },
   "source": [
    "### 2.5 Additional questions (10 points)\n",
    "\n",
    "a) (5 points) Why is $\\beta=\\frac{1}{0.2^2}$ the best choice of $\\beta$ in section 2.4?\n",
    "\n"
   ]
  },
  {
   "cell_type": "markdown",
   "metadata": {
    "deletable": false,
    "nbgrader": {
     "checksum": "16413525920dbbe3f4bfe717867204ba",
     "grade": true,
     "grade_id": "cell-ac9287d87d554547",
     "locked": false,
     "points": 5,
     "schema_version": 1,
     "solution": true
    }
   },
   "source": [
    "YOUR ANSWER HERE"
   ]
  },
  {
   "cell_type": "markdown",
   "metadata": {
    "deletable": false,
    "editable": false,
    "nbgrader": {
     "checksum": "5db5f599fe17da142e4a8d0632b2a42d",
     "grade": false,
     "grade_id": "cell-c3c65e3353057680",
     "locked": true,
     "schema_version": 1,
     "solution": false
    }
   },
   "source": [
    "b) (5 points) What problems do we face when it comes to choosing basis functions in linear models?"
   ]
  },
  {
   "cell_type": "markdown",
   "metadata": {
    "collapsed": true,
    "deletable": false,
    "nbgrader": {
     "checksum": "d28f3ba5fe296d03caca39c240fbb769",
     "grade": true,
     "grade_id": "cell-a3e38ba4c988b6a9",
     "locked": false,
     "points": 5,
     "schema_version": 1,
     "solution": true
    }
   },
   "source": [
    "YOUR ANSWER HERE"
   ]
  }
 ],
 "metadata": {
  "anaconda-cloud": {},
  "kernelspec": {
   "display_name": "Python 3",
   "language": "python",
   "name": "python3"
  },
  "language_info": {
   "codemirror_mode": {
    "name": "ipython",
    "version": 3
   },
   "file_extension": ".py",
   "mimetype": "text/x-python",
   "name": "python",
   "nbconvert_exporter": "python",
   "pygments_lexer": "ipython3",
   "version": "3.6.2"
  }
 },
 "nbformat": 4,
 "nbformat_minor": 1
}
